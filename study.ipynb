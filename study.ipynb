{
 "cells": [
  {
   "cell_type": "markdown",
   "id": "1460b430-0adb-4750-bfac-243bf11bfb92",
   "metadata": {},
   "source": [
    "# Inheritance\n",
    "NOTE: W3school explains perfect : https://www.w3schools.com/python/python_inheritance.asp\n",
    "- In python we pass the base class(parent) as a parameter to the derived class (child)\n",
    "- if we just pass the parameter and write pass in the class -> we do no thing new we just access all things in the base class \n",
    "- but if we try to modify the derived class(main purpose):\n",
    "    - we write the parameters of the base class into the derived class \n",
    "    - to access all attributes and methods in the base class -> we inherit the constructor of it in the derived class constructor\n",
    "- Self is refers to the object(instance) that will created from the class\n",
    "- name of class in python start with capital letter \n",
    "----------------------------------"
   ]
  },
  {
   "cell_type": "code",
   "execution_count": 8,
   "id": "bc9c39a3-3017-4e5e-a51a-df55a468ead3",
   "metadata": {},
   "outputs": [
    {
     "name": "stdout",
     "output_type": "stream",
     "text": [
      "Person Class --> Parent class\n",
      "First Name: Mohamed\n",
      "Last Name: Elsharkawy\n",
      "Age: 22\n",
      "Address: Egypt\n",
      "-----------------------------------------------------\n",
      "Student Class --> Child Class\n",
      "First Name: Mohamed\n",
      "Last Name: Elsharkawy\n",
      "Age: 22\n",
      "Address: Egypt\n",
      "Grade: 95\n"
     ]
    }
   ],
   "source": [
    "# Base class (parent)\n",
    "class Person:\n",
    "    \n",
    "    # constructor \n",
    "    def __init__(self, firstname, lastname, age, address):\n",
    "        # this is the attributes that will get their values by the parameters above\n",
    "        self.firstname = firstname\n",
    "        self.lastname = lastname\n",
    "        self.age = age\n",
    "        self.address = address\n",
    "    \n",
    "    # method to print details\n",
    "    def print_details(self):\n",
    "        print(f\"First Name: {self.firstname}\\nLast Name: {self.lastname}\\nAge: {self.age}\\nAddress: {self.address}\")\n",
    "\n",
    "\n",
    "# Dreived CLass (child)\n",
    "class Student(Person):\n",
    "    \n",
    "    # without constructor --> inheritence is okay \n",
    "    # adding __init__ method as constructor of the child will override the __init__ in the parent \n",
    "    # so the inheritence will be cancelled \n",
    "    # to overcome this we call the constructor of the parent inside the constructor of the child \n",
    "    # we do this by name of the parent with self as a parameter or super() \n",
    "    \n",
    "    # constructor of child \n",
    "    def __init__(self, firstname, lastname, age, address, grade):\n",
    "        \n",
    "        # call constructor of parent\n",
    "        # this single line to get back the inheritence \n",
    "        super().__init__(firstname, lastname, age, address)\n",
    "        \n",
    "        # attributes of the child class \n",
    "        self.grade = grade\n",
    "        \n",
    "    # methods of child class \n",
    "    def print_student_info(self):\n",
    "        print(f\"First Name: {self.firstname}\\nLast Name: {self.lastname}\\nAge: {self.age}\\nAddress: {self.address}\\nGrade: {self.grade}\")\n",
    "\n",
    "    \n",
    "\n",
    "\n",
    "# execution\n",
    "if __name__ == \"__main__\":\n",
    "    print(\"Person Class --> Parent class\")\n",
    "    person1 = Person(\"Mohamed\", \"Elsharkawy\", 22, \"Egypt\")\n",
    "    person1.print_details()\n",
    "    \n",
    "    print(\"-----------------------------------------------------\")\n",
    "    \n",
    "    print(\"Student Class --> Child Class\")\n",
    "    student1 = Student(\"Mohamed\", \"Elsharkawy\", 22, \"Egypt\", 95)   \n",
    "    student1.print_student_info()\n",
    "    "
   ]
  },
  {
   "cell_type": "markdown",
   "id": "41b69134-9452-4e76-9bd2-365ab412755c",
   "metadata": {},
   "source": [
    "# Abstract Class "
   ]
  },
  {
   "cell_type": "code",
   "execution_count": null,
   "id": "ddc10e90-562b-4f14-8e66-e9aa2603e810",
   "metadata": {},
   "outputs": [],
   "source": []
  },
  {
   "cell_type": "code",
   "execution_count": null,
   "id": "518bc257-c557-4adb-9a6a-ff484d878566",
   "metadata": {},
   "outputs": [],
   "source": []
  },
  {
   "cell_type": "code",
   "execution_count": null,
   "id": "5a69303b-c32b-48c0-ab88-9490044c9e29",
   "metadata": {},
   "outputs": [],
   "source": []
  },
  {
   "cell_type": "code",
   "execution_count": null,
   "id": "b16673d7-927b-42b5-8de8-2642174e83a2",
   "metadata": {},
   "outputs": [],
   "source": []
  },
  {
   "cell_type": "code",
   "execution_count": null,
   "id": "713a0c57-3bf2-49aa-805a-24bc195d2333",
   "metadata": {},
   "outputs": [],
   "source": []
  },
  {
   "cell_type": "code",
   "execution_count": null,
   "id": "a1c26ef7-5477-4549-aeab-b36e8aaa9f8e",
   "metadata": {},
   "outputs": [],
   "source": []
  },
  {
   "cell_type": "code",
   "execution_count": null,
   "id": "55ad1bae-4ed6-4a60-8443-a9c29373363a",
   "metadata": {},
   "outputs": [],
   "source": []
  },
  {
   "cell_type": "code",
   "execution_count": null,
   "id": "e2b0b57f-d0c9-4bc0-b878-8aaae8de402a",
   "metadata": {},
   "outputs": [],
   "source": []
  },
  {
   "cell_type": "code",
   "execution_count": null,
   "id": "442267e9-8f75-4b75-8632-44cbd53b550f",
   "metadata": {},
   "outputs": [],
   "source": []
  },
  {
   "cell_type": "code",
   "execution_count": null,
   "id": "1671ef46-2bfe-4b31-b614-2341dd4d0acd",
   "metadata": {},
   "outputs": [],
   "source": []
  },
  {
   "cell_type": "code",
   "execution_count": null,
   "id": "0446b6dc-da44-4e64-9fab-964a219aac54",
   "metadata": {},
   "outputs": [],
   "source": []
  },
  {
   "cell_type": "code",
   "execution_count": null,
   "id": "caf71b6e-3628-401f-bc7a-10a3afb27777",
   "metadata": {},
   "outputs": [],
   "source": []
  },
  {
   "cell_type": "code",
   "execution_count": null,
   "id": "8706c9dd-7ca4-4c1b-9d80-24854832d16c",
   "metadata": {},
   "outputs": [],
   "source": []
  },
  {
   "cell_type": "code",
   "execution_count": null,
   "id": "8f35cfef-34f9-45e0-838d-0d4da29c9a2b",
   "metadata": {},
   "outputs": [],
   "source": []
  },
  {
   "cell_type": "code",
   "execution_count": null,
   "id": "3e92f2d4-3a31-455a-9ffb-b6777e234c0e",
   "metadata": {},
   "outputs": [],
   "source": []
  },
  {
   "cell_type": "code",
   "execution_count": null,
   "id": "5a5e5ac3-fd91-4536-adbb-92693f59def4",
   "metadata": {},
   "outputs": [],
   "source": []
  },
  {
   "cell_type": "code",
   "execution_count": null,
   "id": "86dc8f55-a759-45a1-a5c5-477efb23bf39",
   "metadata": {},
   "outputs": [],
   "source": []
  },
  {
   "cell_type": "code",
   "execution_count": null,
   "id": "7d616f8e-bdcb-457d-b355-9f1e92c2477e",
   "metadata": {},
   "outputs": [],
   "source": []
  },
  {
   "cell_type": "code",
   "execution_count": null,
   "id": "16d93200-b017-495b-b6be-ae6c185e7818",
   "metadata": {},
   "outputs": [],
   "source": []
  },
  {
   "cell_type": "code",
   "execution_count": null,
   "id": "499328eb-d784-4923-afab-2aa4605ea93f",
   "metadata": {},
   "outputs": [],
   "source": []
  },
  {
   "cell_type": "code",
   "execution_count": null,
   "id": "f568536d-53bd-4aa8-ac85-6c7bbedd26c2",
   "metadata": {},
   "outputs": [],
   "source": []
  },
  {
   "cell_type": "code",
   "execution_count": null,
   "id": "1571c314-e821-4d3b-ba1e-e4d36452af70",
   "metadata": {},
   "outputs": [],
   "source": []
  },
  {
   "cell_type": "code",
   "execution_count": null,
   "id": "79924b1a-bf6d-4a6d-9cad-3af901bc261f",
   "metadata": {},
   "outputs": [],
   "source": []
  },
  {
   "cell_type": "code",
   "execution_count": null,
   "id": "3c0fd922-3824-4b22-a5a3-771a81369b02",
   "metadata": {},
   "outputs": [],
   "source": []
  },
  {
   "cell_type": "code",
   "execution_count": null,
   "id": "9754a7b6-2bdb-45ff-8a39-69bda99604f0",
   "metadata": {},
   "outputs": [],
   "source": []
  },
  {
   "cell_type": "code",
   "execution_count": null,
   "id": "61eececd-ab13-49ea-8aff-3474fb2afa80",
   "metadata": {},
   "outputs": [],
   "source": []
  },
  {
   "cell_type": "code",
   "execution_count": null,
   "id": "6a0ac999-f8ca-4806-9379-2c76c6812ee8",
   "metadata": {},
   "outputs": [],
   "source": []
  },
  {
   "cell_type": "code",
   "execution_count": null,
   "id": "4b5c00a4-1dab-46db-97c4-5a13f9b3a989",
   "metadata": {},
   "outputs": [],
   "source": []
  },
  {
   "cell_type": "code",
   "execution_count": null,
   "id": "58e32e8b-f465-4d01-bf1f-0dcfab3c950b",
   "metadata": {},
   "outputs": [],
   "source": []
  },
  {
   "cell_type": "code",
   "execution_count": null,
   "id": "f4ab43dc-c08d-4801-ac9d-ee78d32de364",
   "metadata": {},
   "outputs": [],
   "source": []
  },
  {
   "cell_type": "code",
   "execution_count": null,
   "id": "c099f57a-d31b-436b-ad64-95c555f4e394",
   "metadata": {},
   "outputs": [],
   "source": []
  },
  {
   "cell_type": "code",
   "execution_count": null,
   "id": "69809932-461d-450c-a8b0-2ac957ffc88c",
   "metadata": {},
   "outputs": [],
   "source": []
  },
  {
   "cell_type": "code",
   "execution_count": null,
   "id": "c4358843-36b4-49a2-a57e-4eeec1300eb9",
   "metadata": {},
   "outputs": [],
   "source": []
  },
  {
   "cell_type": "code",
   "execution_count": null,
   "id": "38e6d69a-a5c5-4bf9-8efe-e1ab1d0fdc6d",
   "metadata": {},
   "outputs": [],
   "source": []
  },
  {
   "cell_type": "code",
   "execution_count": null,
   "id": "ec435ec4-8cc5-461a-8d70-1eb8d33bd934",
   "metadata": {},
   "outputs": [],
   "source": []
  },
  {
   "cell_type": "code",
   "execution_count": null,
   "id": "7c531f74-15d1-4b10-a473-0517f1f9546c",
   "metadata": {},
   "outputs": [],
   "source": []
  },
  {
   "cell_type": "code",
   "execution_count": null,
   "id": "fe86e1f7-c2c0-4460-a3db-867a2c13866f",
   "metadata": {},
   "outputs": [],
   "source": []
  },
  {
   "cell_type": "code",
   "execution_count": null,
   "id": "099e6fe1-6a53-4540-97aa-f61349fa3ee6",
   "metadata": {},
   "outputs": [],
   "source": []
  },
  {
   "cell_type": "code",
   "execution_count": null,
   "id": "190683cb-b4ac-4b2e-b46c-a838ab8a9615",
   "metadata": {},
   "outputs": [],
   "source": []
  },
  {
   "cell_type": "code",
   "execution_count": null,
   "id": "2437c34f-749c-42e1-84b6-93ed7d37c26f",
   "metadata": {},
   "outputs": [],
   "source": []
  },
  {
   "cell_type": "code",
   "execution_count": null,
   "id": "b8e7bfb5-275a-411c-82af-fe43b5c254b7",
   "metadata": {},
   "outputs": [],
   "source": []
  }
 ],
 "metadata": {
  "kernelspec": {
   "display_name": "Python 3 (ipykernel)",
   "language": "python",
   "name": "python3"
  },
  "language_info": {
   "codemirror_mode": {
    "name": "ipython",
    "version": 3
   },
   "file_extension": ".py",
   "mimetype": "text/x-python",
   "name": "python",
   "nbconvert_exporter": "python",
   "pygments_lexer": "ipython3",
   "version": "3.9.13"
  }
 },
 "nbformat": 4,
 "nbformat_minor": 5
}
